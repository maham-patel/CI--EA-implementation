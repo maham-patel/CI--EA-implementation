{
  "nbformat": 4,
  "nbformat_minor": 0,
  "metadata": {
    "colab": {
      "name": "Untitled1.ipynb",
      "provenance": [],
      "authorship_tag": "ABX9TyPXJ2UwihBFQCIEj7XXMXS9",
      "include_colab_link": true
    },
    "kernelspec": {
      "name": "python3",
      "display_name": "Python 3"
    }
  },
  "cells": [
    {
      "cell_type": "markdown",
      "metadata": {
        "id": "view-in-github",
        "colab_type": "text"
      },
      "source": [
        "<a href=\"https://colab.research.google.com/github/maham-patel/CI--EA-implementation/blob/main/EA%20class.ipynb\" target=\"_parent\"><img src=\"https://colab.research.google.com/assets/colab-badge.svg\" alt=\"Open In Colab\"/></a>"
      ]
    },
    {
      "cell_type": "code",
      "metadata": {
        "id": "tYo9Ot2aJRQQ",
        "colab": {
          "base_uri": "https://localhost:8080/"
        },
        "outputId": "77db88f3-2270-4148-8eab-0513e0fb4cd2"
      },
      "source": [
        "class EA_imp:\r\n",
        "  \r\n",
        "  def __init__(self, genes, population_size, offspring_size, generations, mutation_rate, iterations, parent_ss, child_ss):\r\n",
        "    self.population_size = population_size\r\n",
        "    self.offspring_size = offspring_size\r\n",
        "    self.generations = generations\r\n",
        "    self.mutation_rate = mutation_rate\r\n",
        "    self.iterations = iterations\r\n",
        "    self.BSF_generation = []\r\n",
        "    self.ASF_generation = []\r\n",
        "    self.BSF_iter = []\r\n",
        "    self.ASF_iter = []\r\n",
        "    self.cur_generation = 1\r\n",
        "    self.population = []\r\n",
        "\r\n",
        "    \r\n",
        "\r\n"
      ],
      "execution_count": 1,
      "outputs": [
        {
          "output_type": "stream",
          "text": [
            "BLA\n"
          ],
          "name": "stdout"
        }
      ]
    }
  ]
}