{
  "nbformat": 4,
  "nbformat_minor": 0,
  "metadata": {
    "colab": {
      "name": "Untitled1.ipynb",
      "provenance": [],
      "authorship_tag": "ABX9TyNKkm6ABo80KqjaO0FIvzAa",
      "include_colab_link": true
    },
    "kernelspec": {
      "name": "python3",
      "display_name": "Python 3"
    }
  },
  "cells": [
    {
      "cell_type": "markdown",
      "metadata": {
        "id": "view-in-github",
        "colab_type": "text"
      },
      "source": [
        "<a href=\"https://colab.research.google.com/github/maham-patel/CI--EA-implementation/blob/main/EA%20class.ipynb\" target=\"_parent\"><img src=\"https://colab.research.google.com/assets/colab-badge.svg\" alt=\"Open In Colab\"/></a>"
      ]
    },
    {
      "cell_type": "code",
      "metadata": {
        "id": "tYo9Ot2aJRQQ"
      },
      "source": [
        "class EA_imp:\r\n",
        "  \r\n",
        "  def __init__(self, genes, population_size, offspring_size, generations, mutation_rate, iterations, parent_ss, survivor_ss):\r\n",
        "    self.population_size = population_size\r\n",
        "    self.offspring_size = offspring_size\r\n",
        "    self.generations = generations\r\n",
        "    self.mutation_rate = mutation_rate\r\n",
        "    self.iterations = iterations\r\n",
        "    self.BSF_generation = []\r\n",
        "    self.ASF_generation = []\r\n",
        "    self.BSF_iteration = []\r\n",
        "    self.ASF_iteration = []\r\n",
        "    self.cur_generation = 1\r\n",
        "    self.population = []\r\n",
        "    #missing parent and child ss selection\r\n",
        "\r\n",
        "    def generate_gen1(self):\r\n",
        "      individual = ()\r\n",
        "      for i in range(self.population_size):\r\n",
        "        individual = self.generate_individual()\r\n",
        "        self.population.append(individual)\r\n",
        "    \r\n",
        "    def generate_individual(self):\r\n",
        "      \r\n",
        "\r\n",
        "    def fitness_function(self):\r\n",
        "      pass\r\n",
        "\r\n",
        "    def parent_selection(self):\r\n",
        "      pass\r\n",
        "    \r\n",
        "    def survivor_selection(self):\r\n",
        "      pass\r\n",
        "\r\n",
        "    def mutation_operator(self):\r\n",
        "      pass\r\n",
        "\r\n",
        "    def end_of_gen(self):\r\n",
        "      pass\r\n",
        "\r\n",
        "    def end_of_iter(self):\r\n",
        "      pass\r\n",
        "\r\n",
        "    def FPS(self):\r\n",
        "      pass\r\n",
        "\r\n",
        "    def RBS(self):\r\n",
        "      pass\r\n",
        "\r\n",
        "    def BT(self):\r\n",
        "      pass\r\n",
        "\r\n",
        "    def Truncation(self):\r\n",
        "      pass\r\n",
        "\r\n",
        "    def Random(self):\r\n",
        "      pass\r\n",
        "\r\n",
        "\r\n",
        "\r\n",
        "    \r\n",
        "\r\n"
      ],
      "execution_count": null,
      "outputs": []
    }
  ]
}